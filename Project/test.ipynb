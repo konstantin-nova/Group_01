{
 "cells": [
  {
   "cell_type": "code",
   "execution_count": 3,
   "metadata": {},
   "outputs": [
    {
     "name": "stdout",
     "output_type": "stream",
     "text": [
      "File MovieSummaries already exists. Skipping download.\n"
     ]
    }
   ],
   "source": [
    "import os\n",
    "import requests\n",
    "import tarfile\n",
    "\n",
    "class movieDataAnalyzer:\n",
    "    def __init__(self, data_url):\n",
    "        \"\"\"\n",
    "        Initialize the movieDataAnalyzer class.\n",
    "        \n",
    "        Args:\n",
    "            data_url (str): URL of the data file to download\n",
    "        \"\"\"\n",
    "        # Set the download directory\n",
    "        self.download_dir = '../downloads'\n",
    "\n",
    "        # Set the file path\n",
    "        filename = 'MovieSummaries' \n",
    "        self.file_path = os.path.join(self.download_dir, filename)\n",
    "        \n",
    "        # Create the download directory if it doesn't exist\n",
    "        if not os.path.exists(self.download_dir):\n",
    "            os.makedirs(self.download_dir)\n",
    "        \n",
    "        # Download the file if it doesn't exist\n",
    "        if not os.path.exists(self.file_path):\n",
    "            print(f\"Downloading Data...\")\n",
    "            self._download_file(data_url)\n",
    "        else:\n",
    "            print(f\"File {filename} already exists. Skipping download.\")\n",
    "    \n",
    "    def _download_file(self, url):\n",
    "        \"\"\"Download and extract the file from the provided URL.\"\"\"\n",
    "        # Download the file\n",
    "        response = requests.get(url, stream=True)\n",
    "        response.raise_for_status()\n",
    "        \n",
    "        with open(self.file_path, 'wb') as f:\n",
    "            for chunk in response.iter_content(chunk_size=8192):\n",
    "                if chunk:\n",
    "                    f.write(chunk)\n",
    "        print(\"Download complete.\")\n",
    "        \n",
    "        # Extract the tarball\n",
    "        print(f\"Extracting {os.path.basename(self.file_path)}...\")\n",
    "        with tarfile.open(self.file_path, 'r:gz') as tar:\n",
    "            tar.extractall(path=self.download_dir)\n",
    "        print(\"Extraction complete.\")\n",
    "\n",
    "# Download the data file\n",
    "data_url = 'http://www.cs.cmu.edu/~ark/personas/data/MovieSummaries.tar.gz'\n",
    "filename = 'MovieSummaries.tar.gz'\n",
    "\n",
    "# Initialize the movieDataAnalyzer class\n",
    "mda = movieDataAnalyzer(data_url)\n"
   ]
  }
 ],
 "metadata": {
  "kernelspec": {
   "display_name": "adpro",
   "language": "python",
   "name": "python3"
  },
  "language_info": {
   "codemirror_mode": {
    "name": "ipython",
    "version": 3
   },
   "file_extension": ".py",
   "mimetype": "text/x-python",
   "name": "python",
   "nbconvert_exporter": "python",
   "pygments_lexer": "ipython3",
   "version": "3.12.8"
  }
 },
 "nbformat": 4,
 "nbformat_minor": 2
}
