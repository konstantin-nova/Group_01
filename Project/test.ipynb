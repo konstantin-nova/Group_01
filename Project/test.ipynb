{
 "cells": [
  {
   "cell_type": "code",
   "execution_count": 8,
   "metadata": {},
   "outputs": [
    {
     "name": "stdout",
     "output_type": "stream",
     "text": [
      "File MovieSummaries.tar.gz already exists in the download directory.\n"
     ]
    }
   ],
   "source": [
    "\"\"\"\n",
    "Movie Data Analysis Module\n",
    "This module provides functionality for downloading, extracting, and analyzing movie data.\n",
    "It includes a MovieDataAnalyzer class that handles downloading data from a specified URL\n",
    "and extracting it for further analysis.\n",
    "The module allows for efficient management of movie datasets by:\n",
    "- Checking if data has already been downloaded to avoid redundant downloads\n",
    "- Creating necessary directory structures for data storage\n",
    "- Downloading data from specified URLs\n",
    "- Extracting compressed data files (tar.gz format)\n",
    "\"\"\"\n",
    "\n",
    "import os\n",
    "import tarfile\n",
    "import requests\n",
    "\n",
    "\n",
    "class MovieDataAnalyzer:\n",
    "    \"\"\"Class for downloading and analyzing movie data.\"\"\"\n",
    "\n",
    "    def __init__(self) -> None:\n",
    "        \"\"\"\n",
    "        Initialize the MovieDataAnalyzer class.\n",
    "\n",
    "        Args:\n",
    "            data_url: URL of the data file to download\n",
    "        \"\"\"\n",
    "        # Set the data URL\n",
    "        data_url = 'http://www.cs.cmu.edu/~ark/personas/data/MovieSummaries.tar.gz'\n",
    "\n",
    "        # Set the download directory\n",
    "        self.download_dir: str = '../downloads'\n",
    "\n",
    "        # Create the download directory if it doesn't exist\n",
    "        if not os.path.exists(self.download_dir):\n",
    "            os.makedirs(self.download_dir)\n",
    "\n",
    "        # Download if file does not exist in the download directory\n",
    "        self.file_path: str = os.path.join(self.download_dir, os.path.basename(data_url))\n",
    "        if not os.path.exists(self.file_path):\n",
    "            self._download_file(data_url)\n",
    "        else:\n",
    "            print(f\"File {os.path.basename(self.file_path)} already exists in the download directory.\")\n",
    "\n",
    "    def _download_file(self, url: str) -> None:\n",
    "        \"\"\"\n",
    "        Download and extract the file from the provided URL.\n",
    "        \n",
    "        Args:\n",
    "            url: The URL to download the file from\n",
    "        \"\"\"\n",
    "        # Download the file\n",
    "        response = requests.get(url, stream=True, timeout=30)\n",
    "        response.raise_for_status()\n",
    "\n",
    "        with open(self.file_path, 'wb') as file:\n",
    "            for chunk in response.iter_content(chunk_size=8192):\n",
    "                if chunk:\n",
    "                    file.write(chunk)\n",
    "        print(\"Download complete.\")\n",
    "\n",
    "        # Extract the tarball\n",
    "        print(f\"Extracting {os.path.basename(self.file_path)}...\")\n",
    "        with tarfile.open(self.file_path, 'r:gz') as tar:\n",
    "            tar.extractall(path=self.download_dir, filter=\"data\")\n",
    "        print(\"Extraction complete.\")\n",
    "\n",
    "\n",
    "# Create an instance of the MovieDataAnalyzer class\n",
    "analyzer = MovieDataAnalyzer()"
   ]
  }
 ],
 "metadata": {
  "kernelspec": {
   "display_name": "adpro",
   "language": "python",
   "name": "python3"
  },
  "language_info": {
   "codemirror_mode": {
    "name": "ipython",
    "version": 3
   },
   "file_extension": ".py",
   "mimetype": "text/x-python",
   "name": "python",
   "nbconvert_exporter": "python",
   "pygments_lexer": "ipython3",
   "version": "3.12.8"
  }
 },
 "nbformat": 4,
 "nbformat_minor": 2
}
